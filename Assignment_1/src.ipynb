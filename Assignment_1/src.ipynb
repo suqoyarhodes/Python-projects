{
 "cells": [
  {
   "cell_type": "code",
   "execution_count": 1,
   "id": "e781dc22",
   "metadata": {
    "scrolled": true
   },
   "outputs": [
    {
     "ename": "IndexError",
     "evalue": "list index out of range",
     "output_type": "error",
     "traceback": [
      "\u001b[1;31m---------------------------------------------------------------------------\u001b[0m",
      "\u001b[1;31mIndexError\u001b[0m                                Traceback (most recent call last)",
      "\u001b[1;32m~\\AppData\\Local\\Temp/ipykernel_18972/3876562639.py\u001b[0m in \u001b[0;36m<module>\u001b[1;34m\u001b[0m\n\u001b[0;32m     10\u001b[0m \u001b[1;32mfor\u001b[0m \u001b[0mrow\u001b[0m \u001b[1;32min\u001b[0m \u001b[0mread_tsv\u001b[0m\u001b[1;33m:\u001b[0m  \u001b[1;31m# Iteratively adding records from tsv file into names file\u001b[0m\u001b[1;33m\u001b[0m\u001b[1;33m\u001b[0m\u001b[0m\n\u001b[0;32m     11\u001b[0m     \u001b[1;32mif\u001b[0m \u001b[0mrow\u001b[0m\u001b[1;33m[\u001b[0m\u001b[1;36m0\u001b[0m\u001b[1;33m]\u001b[0m \u001b[1;33m!=\u001b[0m \u001b[1;34m'Student'\u001b[0m\u001b[1;33m:\u001b[0m \u001b[1;31m# Skipping the column row\u001b[0m\u001b[1;33m\u001b[0m\u001b[1;33m\u001b[0m\u001b[0m\n\u001b[1;32m---> 12\u001b[1;33m         \u001b[0mnames\u001b[0m\u001b[1;33m.\u001b[0m\u001b[0mappend\u001b[0m\u001b[1;33m(\u001b[0m\u001b[1;33m[\u001b[0m\u001b[0mrow\u001b[0m\u001b[1;33m[\u001b[0m\u001b[1;36m0\u001b[0m\u001b[1;33m]\u001b[0m\u001b[1;33m.\u001b[0m\u001b[0msplit\u001b[0m\u001b[1;33m(\u001b[0m\u001b[1;34m','\u001b[0m\u001b[1;33m)\u001b[0m\u001b[1;33m[\u001b[0m\u001b[1;36m0\u001b[0m\u001b[1;33m]\u001b[0m\u001b[1;33m+\u001b[0m\u001b[1;34m' '\u001b[0m\u001b[1;33m+\u001b[0m\u001b[0mrow\u001b[0m\u001b[1;33m[\u001b[0m\u001b[1;36m0\u001b[0m\u001b[1;33m]\u001b[0m\u001b[1;33m.\u001b[0m\u001b[0msplit\u001b[0m\u001b[1;33m(\u001b[0m\u001b[1;34m','\u001b[0m\u001b[1;33m)\u001b[0m\u001b[1;33m[\u001b[0m\u001b[1;36m1\u001b[0m\u001b[1;33m]\u001b[0m\u001b[1;33m,\u001b[0m\u001b[0mrow\u001b[0m\u001b[1;33m[\u001b[0m\u001b[1;36m1\u001b[0m\u001b[1;33m]\u001b[0m\u001b[1;33m]\u001b[0m\u001b[1;33m)\u001b[0m\u001b[1;33m\u001b[0m\u001b[1;33m\u001b[0m\u001b[0m\n\u001b[0m\u001b[0;32m     13\u001b[0m \u001b[0mprint\u001b[0m\u001b[1;33m(\u001b[0m\u001b[1;34mf'Total number of people : {str(len(names))}'\u001b[0m\u001b[1;33m)\u001b[0m \u001b[1;31m#\u001b[0m\u001b[1;33m\u001b[0m\u001b[1;33m\u001b[0m\u001b[0m\n\u001b[0;32m     14\u001b[0m \u001b[0mteams\u001b[0m \u001b[1;33m=\u001b[0m \u001b[1;33m[\u001b[0m\u001b[1;33m]\u001b[0m \u001b[1;31m# Initialising the teams list which will hold several sub lists consisting team member names\u001b[0m\u001b[1;33m\u001b[0m\u001b[1;33m\u001b[0m\u001b[0m\n",
      "\u001b[1;31mIndexError\u001b[0m: list index out of range"
     ]
    }
   ],
   "source": [
    "import csv \n",
    "from random import choice \n",
    "\n",
    "\n",
    "\n",
    "\n",
    "tsv_file = open(\"sp-22-students.tsv\") \n",
    "read_tsv = csv.reader(tsv_file, delimiter=\"\\t\") \n",
    "names = [] # Initialising the names list which will hold names and Hash of all students in tsv file\n",
    "for row in read_tsv:  # Iteratively adding records from tsv file into names file\n",
    "    if row[0] != 'Student': # Skipping the column row\n",
    "        names.append([row[0].split(',')[0]+' '+row[0].split(',')[1],row[1]]) \n",
    "print(f'Total number of people : {str(len(names))}') # \n",
    "teams = [] # Initialising the teams list which will hold several sub lists consisting team member names\n",
    "team_count = int(input('Number of teams : ')) # Asking user how many teams to make\n",
    "for t in range(team_count): # Creating empty lists inside the teams list. Which will hold member names\n",
    "    teams.append([])\n",
    "\n",
    "for z in range(0,len(names)): # Going from 0 to number of people\n",
    "    if z!=1: # If iterated number is not 1 because we dont want a team with single person\n",
    "        if (len(names)- z)%team_count == 0: # If total number of people - iterated number  modulos number of teams needed is 0 \n",
    "            q=(len(names)-z)//team_count # Dividing the number of people - iterated number with total teams to get a qoutient which will be the number of people we will assign to each team\n",
    "            for i in range(team_count): # Assigning the number of people we got by above calculation to each team and removing them from names list by there hashes\n",
    "                for h in range(q):\n",
    "                    member = choice(names) \n",
    "                    teams[i].append(member[0])\n",
    "                    for y in names:\n",
    "                        if y[1] == member[1]:\n",
    "                            names.pop(names.index(y))\n",
    "                            break\n",
    "\n",
    "for left_member in names: # Assigning the people left in the names team to different teams randomly so no one is left out\n",
    "    x = choice(teams)\n",
    "    x.append(left_member[0])\n",
    "\n",
    "flag = False # This variable is to stop the code from showing teams if teams have less than 2 members\n",
    "for iter_ in teams: # Displaying the members of different teams in teams list\n",
    "    if len(iter_) == 1: # If team has 1 member then it means the teams needed were too high and each team couldnt be assigned 2 players.\n",
    "        print('Inadequate amount of people')\n",
    "        flag = True\n",
    "        break\n",
    "\n",
    "if flag == False:\n",
    "    for iter_ in teams:\n",
    "        print(f'Team {str(teams.index(iter_)+1)} has {str(len(iter_))} Members')\n",
    "        for mb in iter_:\n",
    "            print(mb)\n",
    "        print('\\n')"
   ]
  },
  {
   "cell_type": "code",
   "execution_count": null,
   "id": "3d4f51a3",
   "metadata": {},
   "outputs": [],
   "source": []
  }
 ],
 "metadata": {
  "kernelspec": {
   "display_name": "Python 3 (ipykernel)",
   "language": "python",
   "name": "python3"
  },
  "language_info": {
   "codemirror_mode": {
    "name": "ipython",
    "version": 3
   },
   "file_extension": ".py",
   "mimetype": "text/x-python",
   "name": "python",
   "nbconvert_exporter": "python",
   "pygments_lexer": "ipython3",
   "version": "3.9.7"
  }
 },
 "nbformat": 4,
 "nbformat_minor": 5
}
